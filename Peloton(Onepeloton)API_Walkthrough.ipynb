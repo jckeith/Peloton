{
 "cells": [
  {
   "cell_type": "markdown",
   "metadata": {},
   "source": [
    "# Peloton API Walkthrough\n"
   ]
  },
  {
   "cell_type": "markdown",
   "metadata": {},
   "source": [
    "Like many people during the COVID pandemic, I found myself looking for a better way to workout at home (I have always been a gym-goer) and this led to the appearance of a Peloton stationary bike in my living room. The bike helped my through some of the dark days of the lockdown, particulary during the winter when getting outside was a challenge. But as an engineer I quickly became as interested in all of the data that my machine was throwing of as I was in using it. Power, Cadence, Resistance, Suffer-Score, FTP ... The bike is a data machine.\n",
    "\n",
    "I also wanted to uncover the factors/drivers that would lead to the biggest improvements in my performance. Was it intervals, total time on the bike, or maybe peak intensity? This led me to exploring how I could access my data via the Peloton API.\n",
    "\n",
    "It quickly became apparent that Peloton does not yet have an official api that is publicly documented. However, I was able to find some useful resources that helped me to start walking through the API. This notebook shows anyone interested what type fo data can be found at different endpoints in the Peloton API and how to get their Peloton performance data into a tidy data-science-ready format (tibble)."
   ]
  },
  {
   "cell_type": "markdown",
   "metadata": {},
   "source": [
    "### References:\n",
    "\n",
    "##### Unofficial API showing many of the endpoints you can get:\n",
    "https://app.swaggerhub.com/apis/DovOps/peloton-unofficial-api/0.2.3#/\n",
    "\n",
    "##### Git repository for a Peloton python library that someone created:\n",
    "https://github.com/geudrik/peloton-client-library"
   ]
  },
  {
   "cell_type": "markdown",
   "metadata": {},
   "source": [
    "### Walk-through:\n",
    "\n",
    "My goal in exploring the Peloton API was to get the data pertaining to my athletic performance and the drivers of improvements to that performance. There is a lot of other data, for example, social media connections or user-experience variables. However, my goal was specific to getting to the performance data. \n",
    "\n",
    "My functional goal was to get a table of tidy data \"tibble\" of my performance data that I could use for visualizations and analysis.\n",
    "\n",
    "This walkthrough shows how to get to that end goal, but also shows what is sitting at a lot of the other endpoints.\n",
    "\n",
    "Note: I have hashed out #### a lot of my personal information along the way. Input your own information to make the code work."
   ]
  },
  {
   "cell_type": "code",
   "execution_count": 1,
   "metadata": {},
   "outputs": [],
   "source": [
    "## Package Imports\n",
    "\n",
    "import requests\n",
    "import pandas as pd\n",
    "from pandas.io.json import json_normalize\n",
    "import json\n",
    "import numpy as np\n",
    "import pprint"
   ]
  },
  {
   "cell_type": "code",
   "execution_count": 2,
   "metadata": {},
   "outputs": [
    {
     "data": {
      "text/plain": [
       "<Response [200]>"
      ]
     },
     "execution_count": 2,
     "metadata": {},
     "output_type": "execute_result"
    }
   ],
   "source": [
    "## Connect Session to Peloton API using Requests.\n",
    "\n",
    "## Note: I have hashed out my username & password. Enter your own password to make the code work\n",
    "\n",
    "s = requests.Session()\n",
    "payload = {'username_or_email':'########', 'password':'############'}\n",
    "s.post('https://api.onepeloton.com/auth/login', json=payload)"
   ]
  },
  {
   "cell_type": "markdown",
   "metadata": {},
   "source": [
    "The first peloton endpoint to is under api/me. As the name suggests this endpoint has a lot of personal user information.\n",
    "\n",
    "Below, is the result of a query to this endpoint and example of the data that it returns. Note, that I have only shown the keys of the returned data, because a full print out would display all of my own personal information."
   ]
  },
  {
   "cell_type": "code",
   "execution_count": 3,
   "metadata": {},
   "outputs": [],
   "source": [
    "## Query personal data\n",
    "query_personal = s.get(\"https://api.onepeloton.com/api/me\")"
   ]
  },
  {
   "cell_type": "code",
   "execution_count": 4,
   "metadata": {},
   "outputs": [
    {
     "name": "stdout",
     "output_type": "stream",
     "text": [
      "['username' 'location' 'email' 'default_heart_rate_zones'\n",
      " 'total_non_pedaling_metric_workouts' 'cycling_ftp_workout_id'\n",
      " 'is_provisional' 'facebook_id' 'birthday' 'subscription_credits_used'\n",
      " 'height' 'member_groups' 'height_unit' 'first_name' 'referral_code'\n",
      " 'is_effort_score_enabled' 'customized_max_heart_rate'\n",
      " 'has_active_device_subscription' 'weight' 'external_music_auth_list'\n",
      " 'locale' 'created_country' 'last_workout_at' 'default_max_heart_rate'\n",
      " 'id' 'is_fitbit_authenticated' 'workout_counts'\n",
      " 'total_pedaling_metric_workouts' 'referrals_made'\n",
      " 'is_internal_beta_tester' 'allow_marketing'\n",
      " 'has_active_digital_subscription' 'contract_agreements' 'block_prenatal'\n",
      " 'has_signed_waiver' 'total_followers' 'estimated_cycling_ftp' 'image_url'\n",
      " 'instructor_id' 'is_profile_private' 'is_complete_profile' 'is_demo'\n",
      " 'facebook_access_token' 'gender' 'obfuscated_email'\n",
      " 'is_external_beta_tester' 'subscription_credits'\n",
      " 'customized_heart_rate_zones' 'paired_devices' 'v1_referrals_made'\n",
      " 'cycling_ftp' 'name' 'is_strava_authenticated' 'total_pending_followers'\n",
      " 'total_workouts' 'cycling_workout_ftp' 'can_charge' 'phone_number'\n",
      " 'cycling_ftp_source' 'block_explicit' 'total_following' 'weight_unit'\n",
      " 'last_name' 'created_at' 'middle_initial' 'hardware_settings'\n",
      " 'quick_hits.quick_hits_enabled' 'quick_hits.speed_shortcuts'\n",
      " 'quick_hits.incline_shortcuts']\n"
     ]
    }
   ],
   "source": [
    "## Print personal query headings\n",
    "\n",
    "print(json_normalize(query_personal.json()).columns.values)"
   ]
  },
  {
   "cell_type": "markdown",
   "metadata": {},
   "source": [
    "From the keys you can see that this endpoint contains a lot of user account data, such as total following, connected social media accounts, birthday, gender, number of workouts, whether they are a beta tester, etc. However, it does not include much (if any) of the athletic performance data that I was hoping to find. It does however contain one key item for getting to that data, noteably your user id.\n",
    "\n",
    "Like many APIs, user IDs are hidden behind hash keys to keep identities private. However, this hash key is important for querying many of the Peleton endpoints. Therefore, it is useful to store your Peleton ID for running additional queries. "
   ]
  },
  {
   "cell_type": "code",
   "execution_count": 5,
   "metadata": {},
   "outputs": [],
   "source": [
    "user_id = query_personal.json()['id']"
   ]
  },
  {
   "cell_type": "markdown",
   "metadata": {},
   "source": [
    "Using this hash key you can query another endpoint which will give additonal workout data, which is: \n",
    "\n",
    "api/user/{user_id}/workouts?"
   ]
  },
  {
   "cell_type": "code",
   "execution_count": 6,
   "metadata": {},
   "outputs": [],
   "source": [
    "pw_query_string = r\"https://api.onepeloton.com/api/user/{}/workouts?joins=ride&limit=100\".format(user_id)\n",
    "\n",
    "q_personal_workouts = s.get(pw_query_string)"
   ]
  },
  {
   "cell_type": "code",
   "execution_count": 8,
   "metadata": {},
   "outputs": [
    {
     "name": "stdout",
     "output_type": "stream",
     "text": [
      "['data' 'limit' 'page' 'total' 'count' 'page_count' 'show_previous'\n",
      " 'show_next' 'sort_by' 'aggregate_stats' 'next.workout_id'\n",
      " 'next.created_at' 'summary.2021-11' 'summary.2021-07' 'summary.2021-06'\n",
      " 'summary.2021-05' 'summary.2021-04' 'summary.2021-03' 'summary.2021-02'\n",
      " 'summary.2021-01'\n",
      " 'total_heart_rate_zone_durations.heart_rate_z1_duration'\n",
      " 'total_heart_rate_zone_durations.heart_rate_z2_duration'\n",
      " 'total_heart_rate_zone_durations.heart_rate_z3_duration'\n",
      " 'total_heart_rate_zone_durations.heart_rate_z4_duration'\n",
      " 'total_heart_rate_zone_durations.heart_rate_z5_duration']\n"
     ]
    }
   ],
   "source": [
    "## Print personal workout query headings\n",
    "\n",
    "print(json_normalize(q_personal_workouts.json()).columns.values)"
   ]
  },
  {
   "cell_type": "code",
   "execution_count": 11,
   "metadata": {},
   "outputs": [
    {
     "name": "stdout",
     "output_type": "stream",
     "text": [
      "dict_keys(['created_at', 'device_type', 'end_time', 'fitness_discipline', 'has_pedaling_metrics', 'has_leaderboard_metrics', 'id', 'is_total_work_personal_record', 'metrics_type', 'name', 'peloton_id', 'platform', 'start_time', 'status', 'timezone', 'title', 'total_work', 'user_id', 'workout_type', 'total_video_watch_time_seconds', 'total_video_buffering_seconds', 'v2_total_video_watch_time_seconds', 'v2_total_video_buffering_seconds', 'total_music_audio_play_seconds', 'total_music_audio_buffer_seconds', 'ride', 'created', 'device_time_created_at', 'strava_id', 'fitbit_id', 'effort_zones'])\n"
     ]
    }
   ],
   "source": [
    "## Show an example of information in the 'data' key\n",
    "print(q_personal_workouts.json()['data'][0].keys())"
   ]
  },
  {
   "cell_type": "code",
   "execution_count": 12,
   "metadata": {},
   "outputs": [
    {
     "name": "stdout",
     "output_type": "stream",
     "text": [
      "{'2021-11': 2, '2021-07': 1, '2021-06': 5, '2021-05': 6, '2021-04': 10, '2021-03': 10, '2021-02': 17, '2021-01': 1}\n"
     ]
    }
   ],
   "source": [
    "## Show an example of information in the 'summary' key\n",
    "print(q_personal_workouts.json()['summary'])"
   ]
  },
  {
   "cell_type": "code",
   "execution_count": 13,
   "metadata": {},
   "outputs": [
    {
     "name": "stdout",
     "output_type": "stream",
     "text": [
      "[]\n"
     ]
    }
   ],
   "source": [
    "## Show an example of information in the 'aggregate_stats' key\n",
    "print(q_personal_workouts.json()['aggregate_stats'])"
   ]
  },
  {
   "cell_type": "markdown",
   "metadata": {},
   "source": [
    "It seems that this endpoint contains a lot of overall user data and user experience data for each workout. However, it does not contain the detailed athletic performance data I was hoping to find. It has, however, given some other useful data, notably the workout id for each of my rides, as well as the overall number of rides I've done. This data is useful for digging into each workout in more detail."
   ]
  },
  {
   "cell_type": "code",
   "execution_count": 90,
   "metadata": {},
   "outputs": [
    {
     "name": "stdout",
     "output_type": "stream",
     "text": [
      "deb6957a2baa45f88c75e926b4bf7af1\n"
     ]
    }
   ],
   "source": [
    "print(q_personal_workouts.json()['data'][0]['id'])"
   ]
  },
  {
   "cell_type": "markdown",
   "metadata": {},
   "source": [
    "All of pelotons API endpoints seem to be stored under different hash-key ids. As shown above there is a personal id for each user, which you need to access your own data. But additionally, each of your workouts has its own id. On top of that each peloton ride has its own id (\"peleton_id\"). This is different than your workout id, which is specific to your performance during that ride. Multiple users can experience the same ride, but each personal performance is stored under its own id.\n",
    "\n",
    "The ride ids (\"peleton_id\") can be useful for comparing the performance of different riders to the same ride."
   ]
  },
  {
   "cell_type": "markdown",
   "metadata": {},
   "source": [
    "First let's look at a single example of the data for an individual workout, which as this endpoint:\n",
    "\n",
    "api/workout/{workout_id}"
   ]
  },
  {
   "cell_type": "code",
   "execution_count": 14,
   "metadata": {},
   "outputs": [],
   "source": [
    "wo_str = r'https://api.onepeloton.com/api/workout/deb6957a2baa45f88c75e926b4bf7af1'\n",
    "q_single_workout = s.get(wo_str)"
   ]
  },
  {
   "cell_type": "code",
   "execution_count": 15,
   "metadata": {},
   "outputs": [
    {
     "name": "stdout",
     "output_type": "stream",
     "text": [
      "['created_at' 'device_type' 'end_time' 'fitness_discipline'\n",
      " 'has_pedaling_metrics' 'has_leaderboard_metrics' 'id'\n",
      " 'is_total_work_personal_record' 'metrics_type' 'name' 'peloton_id'\n",
      " 'platform' 'start_time' 'status' 'timezone' 'title' 'total_work'\n",
      " 'user_id' 'workout_type' 'total_video_watch_time_seconds'\n",
      " 'total_video_buffering_seconds' 'v2_total_video_watch_time_seconds'\n",
      " 'v2_total_video_buffering_seconds' 'total_music_audio_play_seconds'\n",
      " 'total_music_audio_buffer_seconds' 'created' 'device_time_created_at'\n",
      " 'strava_id' 'fitbit_id' 'is_skip_intro_available' 'has_paused'\n",
      " 'is_pause_available' 'total_heart_rate_zone_durations'\n",
      " 'average_effort_score' 'achievement_templates' 'leaderboard_rank'\n",
      " 'total_leaderboard_users' 'device_type_display_name'\n",
      " 'ride.availability.is_available' 'ride.availability.reason'\n",
      " 'ride.class_type_ids' 'ride.content_provider' 'ride.content_format'\n",
      " 'ride.description' 'ride.difficulty_estimate' 'ride.overall_estimate'\n",
      " 'ride.difficulty_rating_avg' 'ride.difficulty_rating_count'\n",
      " 'ride.difficulty_level' 'ride.duration' 'ride.equipment_ids'\n",
      " 'ride.equipment_tags' 'ride.extra_images' 'ride.fitness_discipline'\n",
      " 'ride.fitness_discipline_display_name' 'ride.has_closed_captions'\n",
      " 'ride.has_pedaling_metrics' 'ride.home_peloton_id' 'ride.id'\n",
      " 'ride.image_url' 'ride.instructor_id' 'ride.individual_instructor_ids'\n",
      " 'ride.is_archived' 'ride.is_closed_caption_shown' 'ride.is_explicit'\n",
      " 'ride.has_free_mode' 'ride.is_live_in_studio_only' 'ride.language'\n",
      " 'ride.origin_locale' 'ride.length' 'ride.live_stream_id'\n",
      " 'ride.live_stream_url' 'ride.location' 'ride.metrics'\n",
      " 'ride.original_air_time' 'ride.overall_rating_avg'\n",
      " 'ride.overall_rating_count' 'ride.pedaling_start_offset'\n",
      " 'ride.pedaling_end_offset' 'ride.pedaling_duration' 'ride.rating'\n",
      " 'ride.ride_type_id' 'ride.ride_type_ids' 'ride.sample_vod_stream_url'\n",
      " 'ride.scheduled_start_time' 'ride.series_id' 'ride.sold_out'\n",
      " 'ride.studio_peloton_id' 'ride.title' 'ride.total_ratings'\n",
      " 'ride.total_in_progress_workouts' 'ride.total_workouts'\n",
      " 'ride.vod_stream_url' 'ride.vod_stream_id' 'ride.captions'\n",
      " 'ride.join_tokens.on_demand' 'ride.flags'\n",
      " 'ride.is_dynamic_video_eligible' 'ride.is_fixed_distance'\n",
      " 'ride.dynamic_video_recorded_speed_in_mph' 'ride.thumbnail_title'\n",
      " 'ride.thumbnail_location' 'ride.distance' 'ride.distance_unit'\n",
      " 'ride.distance_display_value' 'ride.excluded_platforms' 'ftp_info.ftp'\n",
      " 'ftp_info.ftp_source' 'ftp_info.ftp_workout_id']\n"
     ]
    }
   ],
   "source": [
    "##view individual workout data\n",
    "\n",
    "#print(q_single_workout.json().keys())\n",
    "\n",
    "print(json_normalize(q_single_workout.json()).columns.values)"
   ]
  },
  {
   "cell_type": "markdown",
   "metadata": {},
   "source": [
    "This data is mostly user-experience data rather than performance/training data\n",
    "\n",
    "However, looking at the unofficial API reference we can see that there is another endpoint we can look into:\n",
    "\n",
    "api/workout/{workout_id}/performance_graph?"
   ]
  },
  {
   "cell_type": "code",
   "execution_count": 16,
   "metadata": {},
   "outputs": [],
   "source": [
    "##Query performance graph data for individual workout\n",
    "q_performance_graph = s.get('https://api.onepeloton.com/api/workout/f9347eede5cc4d04812bea35bd25e509/performance_graph?every_n=30').json()"
   ]
  },
  {
   "cell_type": "markdown",
   "metadata": {},
   "source": [
    "We can explore this endpoint by looking at the data behind each of the keys returned by the query."
   ]
  },
  {
   "cell_type": "code",
   "execution_count": 19,
   "metadata": {},
   "outputs": [
    {
     "name": "stdout",
     "output_type": "stream",
     "text": [
      "dict_keys(['duration', 'is_class_plan_shown', 'segment_list', 'seconds_since_pedaling_start', 'average_summaries', 'summaries', 'metrics', 'has_apple_watch_metrics', 'location_data', 'is_location_data_accurate', 'splits_data', 'target_metrics_performance_data', 'effort_zones'])\n"
     ]
    }
   ],
   "source": [
    "print(q_performance_graph.keys())"
   ]
  },
  {
   "cell_type": "code",
   "execution_count": 21,
   "metadata": {},
   "outputs": [
    {
     "name": "stdout",
     "output_type": "stream",
     "text": [
      "[{'id': 'c09097cbbf644a33a099ddc8bbed1a07', 'length': 657, 'start_time_offset': 0, 'icon_url': 'https://s3.amazonaws.com/static-cdn.pelotoncycle.com/segment-icons/warmup.png', 'intensity_in_mets': 3.5, 'metrics_type': 'cycling', 'icon_name': 'warmup', 'icon_slug': 'warmup', 'name': 'Warm Up', 'is_drill': False}, {'id': '7b4554cfcba44352bddcf599cbd67e8d', 'length': 1085, 'start_time_offset': 657, 'icon_url': 'https://s3.amazonaws.com/static-cdn.pelotoncycle.com/segment-icons/cycling.png', 'intensity_in_mets': 6.0, 'metrics_type': 'cycling', 'icon_name': 'cycling', 'icon_slug': 'cycling', 'name': 'Cycling', 'is_drill': False}, {'id': 'b276dc5b35c74ec499f9a7a596618850', 'length': 58, 'start_time_offset': 1742, 'icon_url': 'https://s3.amazonaws.com/static-cdn.pelotoncycle.com/segment-icons/cooldown.png', 'intensity_in_mets': 3.5, 'metrics_type': 'cycling', 'icon_name': 'cooldown', 'icon_slug': 'cooldown', 'name': 'Cool Down', 'is_drill': False}]\n"
     ]
    }
   ],
   "source": [
    "print(q_performance_graph['segment_list'])"
   ]
  },
  {
   "cell_type": "code",
   "execution_count": 22,
   "metadata": {},
   "outputs": [
    {
     "name": "stdout",
     "output_type": "stream",
     "text": [
      "[1, 31, 61, 91, 121, 151, 181, 211, 241, 271, 301, 331, 361, 391, 421, 451, 481, 511, 541, 571, 601, 631, 661, 691, 721, 751, 781, 811, 841, 871, 901, 931, 961, 991, 1021, 1051, 1081, 1111, 1141, 1171, 1201, 1231, 1261, 1291, 1321, 1351, 1381, 1411, 1441, 1471, 1501, 1531, 1561, 1591, 1621, 1651, 1681, 1711, 1741, 1771, 1800]\n"
     ]
    }
   ],
   "source": [
    "print(q_performance_graph['seconds_since_pedaling_start'])"
   ]
  },
  {
   "cell_type": "code",
   "execution_count": 23,
   "metadata": {},
   "outputs": [
    {
     "name": "stdout",
     "output_type": "stream",
     "text": [
      "[{'display_name': 'Avg Output', 'display_unit': 'watts', 'value': 133, 'slug': 'avg_output'}, {'display_name': 'Avg Cadence', 'display_unit': 'rpm', 'value': 87, 'slug': 'avg_cadence'}, {'display_name': 'Avg Resistance', 'display_unit': '%', 'value': 41, 'slug': 'avg_resistance'}, {'display_name': 'Avg Speed', 'display_unit': 'kph', 'value': 29.2, 'slug': 'avg_speed'}]\n",
      "     display_name display_unit  value            slug\n",
      "0      Avg Output        watts  133.0      avg_output\n",
      "1     Avg Cadence          rpm   87.0     avg_cadence\n",
      "2  Avg Resistance            %   41.0  avg_resistance\n",
      "3       Avg Speed          kph   29.2       avg_speed\n"
     ]
    }
   ],
   "source": [
    "print(q_performance_graph['average_summaries'])\n",
    "\n",
    "print(json_normalize(q_performance_graph['average_summaries']))"
   ]
  },
  {
   "cell_type": "code",
   "execution_count": 24,
   "metadata": {},
   "outputs": [
    {
     "name": "stdout",
     "output_type": "stream",
     "text": [
      "[{'display_name': 'Total Output', 'display_unit': 'kj', 'value': 240, 'slug': 'total_output'}, {'display_name': 'Distance', 'display_unit': 'km', 'value': 14.61, 'slug': 'distance'}, {'display_name': 'Calories', 'display_unit': 'kcal', 'value': 321, 'slug': 'calories'}]\n",
      "   display_name display_unit   value          slug\n",
      "0  Total Output           kj  240.00  total_output\n",
      "1      Distance           km   14.61      distance\n",
      "2      Calories         kcal  321.00      calories\n"
     ]
    }
   ],
   "source": [
    "print(q_performance_graph['summaries'])\n",
    "\n",
    "print(json_normalize(q_performance_graph['summaries']))"
   ]
  },
  {
   "cell_type": "code",
   "execution_count": 25,
   "metadata": {},
   "outputs": [
    {
     "name": "stdout",
     "output_type": "stream",
     "text": [
      "[{'display_name': 'Output', 'display_unit': 'watts', 'max_value': 223, 'average_value': 133, 'values': [121, 133, 130, 127, 141, 130, 143, 213, 223, 220, 135, 135, 138, 141, 138, 165, 165, 169, 159, 103, 107, 119, 153, 159, 156, 160, 154, 163, 154, 120, 125, 122, 167, 163, 153, 167, 182, 180, 166, 129, 137, 131, 181, 161, 175, 172, 166, 163, 163, 129, 133, 125, 154, 156, 142, 156, 158, 158, 166, 97, 94], 'slug': 'output'}, {'display_name': 'Cadence', 'display_unit': 'rpm', 'max_value': 116, 'average_value': 87, 'values': [78, 85, 84, 83, 88, 85, 90, 115, 116, 115, 101, 101, 87, 85, 87, 91, 91, 92, 89, 79, 81, 86, 88, 89, 88, 87, 88, 87, 84, 83, 85, 84, 88, 87, 76, 79, 85, 86, 82, 81, 83, 82, 102, 95, 100, 99, 97, 96, 95, 98, 100, 96, 108, 110, 104, 105, 106, 106, 110, 114, 112], 'slug': 'cadence'}, {'display_name': 'Resistance', 'display_unit': '%', 'max_value': 48, 'average_value': 41, 'values': [43, 43, 41, 41, 41, 41, 41, 41, 41, 41, 38, 38, 41, 41, 41, 44, 44, 44, 44, 39, 39, 39, 44, 44, 44, 45, 45, 45, 45, 41, 41, 41, 44, 48, 47, 47, 47, 46, 46, 43, 43, 43, 43, 41, 41, 41, 41, 41, 41, 37, 37, 37, 38, 38, 38, 39, 39, 39, 39, 30, 30], 'slug': 'resistance'}, {'display_name': 'Speed', 'display_unit': 'kph', 'max_value': 35.9, 'average_value': 29.2, 'values': [28.2, 29.3, 29.1, 28.8, 30.0, 29.1, 30.2, 35.3, 35.9, 35.7, 29.6, 29.6, 29.8, 30.0, 29.8, 32.0, 32.0, 32.2, 31.5, 26.5, 26.9, 28.1, 31.0, 31.5, 31.3, 31.6, 31.1, 31.8, 31.1, 28.2, 28.6, 28.4, 32.1, 31.8, 31.0, 32.1, 33.2, 33.1, 32.0, 29.0, 29.7, 29.2, 33.1, 31.6, 32.7, 32.5, 32.1, 31.8, 31.8, 29.0, 29.4, 28.6, 31.1, 31.3, 30.2, 31.3, 31.5, 31.5, 32.0, 25.8, 25.5], 'slug': 'speed'}, {'display_name': 'Heart Rate', 'display_unit': 'bpm', 'max_value': 159, 'average_value': 133, 'values': [103, 114, 119, 119, 129, 125, 123, 131, 137, 144, 139, 138, 125, 126, 132, 133, 136, 138, 141, 140, 125, 124, 128, 139, 138, 139, 136, 134, 137, 133, 134, 133, 131, 141, 133, 136, 140, 145, 143, 128, 129, 129, 135, 145, 146, 147, 149, 148, 147, 137, 139, 138, 140, 150, 149, 150, 155, 157, 154, 159, 137], 'slug': 'heart_rate', 'zones': [{'display_name': 'Zone 1', 'slug': 'zone1', 'range': '<123 bpm', 'duration': 289, 'max_value': 122, 'min_value': 0}, {'display_name': 'Zone 2', 'slug': 'zone2', 'range': '123-141 bpm', 'duration': 1167, 'max_value': 141, 'min_value': 123}, {'display_name': 'Zone 3', 'slug': 'zone3', 'range': '142-160 bpm', 'duration': 344, 'max_value': 160, 'min_value': 142}, {'display_name': 'Zone 4', 'slug': 'zone4', 'range': '161-179 bpm', 'duration': 0, 'max_value': 179, 'min_value': 161}, {'display_name': 'Zone 5', 'slug': 'zone5', 'range': '>=180 bpm', 'duration': 0, 'max_value': 190, 'min_value': 180}], 'missing_data_duration': 0}]\n",
      "  display_name display_unit  max_value  average_value  \\\n",
      "0       Output        watts      223.0          133.0   \n",
      "1      Cadence          rpm      116.0           87.0   \n",
      "2   Resistance            %       48.0           41.0   \n",
      "3        Speed          kph       35.9           29.2   \n",
      "4   Heart Rate          bpm      159.0          133.0   \n",
      "\n",
      "                                              values        slug  \\\n",
      "0  [121, 133, 130, 127, 141, 130, 143, 213, 223, ...      output   \n",
      "1  [78, 85, 84, 83, 88, 85, 90, 115, 116, 115, 10...     cadence   \n",
      "2  [43, 43, 41, 41, 41, 41, 41, 41, 41, 41, 38, 3...  resistance   \n",
      "3  [28.2, 29.3, 29.1, 28.8, 30.0, 29.1, 30.2, 35....       speed   \n",
      "4  [103, 114, 119, 119, 129, 125, 123, 131, 137, ...  heart_rate   \n",
      "\n",
      "                                               zones  missing_data_duration  \n",
      "0                                                NaN                    NaN  \n",
      "1                                                NaN                    NaN  \n",
      "2                                                NaN                    NaN  \n",
      "3                                                NaN                    NaN  \n",
      "4  [{'display_name': 'Zone 1', 'slug': 'zone1', '...                    0.0  \n"
     ]
    }
   ],
   "source": [
    "print(q_performance_graph['metrics'])\n",
    "\n",
    "print(json_normalize(q_performance_graph['metrics']))"
   ]
  },
  {
   "cell_type": "markdown",
   "metadata": {},
   "source": [
    "Under the performance_graph endpoint I was able to find the detailed atheltic performance data that I was looking for, including power, cadence, heart-rate, etc.\n",
    "\n",
    "Now that I have found the location of the data, I can gather the data for each of my workouts. This is one of the drawbacks of the current Peloton API (or at least my understanding of it) in that each workout is stored at it's own endpoint. There does not seem to be a single source for all of my workouts. Therefore, to get the data for all of my workouts, I have to run a query for each single workout.\n",
    "\n",
    "However, knowing the location of all the needed hash keys and the endpoints of the wanted data, it's fairly easy to setup a loop to query each workout."
   ]
  },
  {
   "cell_type": "code",
   "execution_count": 26,
   "metadata": {},
   "outputs": [],
   "source": [
    "df_my_id = json_normalize(q_personal_workouts.json()['data'])"
   ]
  },
  {
   "cell_type": "code",
   "execution_count": 28,
   "metadata": {},
   "outputs": [],
   "source": [
    "## I am only interested in cycling data\n",
    "df_my_id = df_my_id[df_my_id['fitness_discipline'] == 'cycling']"
   ]
  },
  {
   "cell_type": "code",
   "execution_count": 29,
   "metadata": {},
   "outputs": [],
   "source": [
    "df_my_id = df_my_id[['id','peloton_id','end_time']]"
   ]
  },
  {
   "cell_type": "markdown",
   "metadata": {},
   "source": [
    "I have created a list of the hash keys for each of my individual workouts, the peleton ride ids, as well as the end-time which I can use to get the date.\n",
    "\n",
    "I can use the hash keys to query each workout that I've completed:"
   ]
  },
  {
   "cell_type": "code",
   "execution_count": 31,
   "metadata": {},
   "outputs": [],
   "source": [
    "q_pw_pgL = []       ## a List of personal workout performance graph data\n",
    "for w in df_my_id['id']:\n",
    "    \n",
    "    pgs = r'https://api.onepeloton.com/api/workout/{}/performance_graph?every_n=30'.format(w)\n",
    "    \n",
    "    wo_pg = s.get(pgs).json()\n",
    "    \n",
    "    q_pw_pgL.append(wo_pg)"
   ]
  },
  {
   "cell_type": "markdown",
   "metadata": {},
   "source": [
    "The data I have now is a list of queries, which is a list of nested JSON dictionaries. \n",
    "\n",
    "Taking a look at one example of the workout data that I have compiled, I can figure out how to tidy and organize the final dataframe."
   ]
  },
  {
   "cell_type": "code",
   "execution_count": 34,
   "metadata": {},
   "outputs": [
    {
     "name": "stdout",
     "output_type": "stream",
     "text": [
      "dict_keys(['duration', 'is_class_plan_shown', 'segment_list', 'seconds_since_pedaling_start', 'average_summaries', 'summaries', 'metrics', 'has_apple_watch_metrics', 'location_data', 'is_location_data_accurate', 'splits_data', 'target_metrics_performance_data', 'effort_zones'])\n"
     ]
    }
   ],
   "source": [
    "print(q_pw_pgL[5].keys())"
   ]
  },
  {
   "cell_type": "code",
   "execution_count": 35,
   "metadata": {},
   "outputs": [
    {
     "name": "stdout",
     "output_type": "stream",
     "text": [
      "1800\n"
     ]
    }
   ],
   "source": [
    "print(q_pw_pgL[5]['duration'])"
   ]
  },
  {
   "cell_type": "code",
   "execution_count": 36,
   "metadata": {},
   "outputs": [
    {
     "name": "stdout",
     "output_type": "stream",
     "text": [
      "[1, 31, 61, 91, 121, 151, 181, 211, 241, 271, 301, 331, 361, 391, 421, 451, 481, 511, 541, 571, 601, 631, 661, 691, 721, 751, 781, 811, 841, 871, 901, 931, 961, 991, 1021, 1051, 1081, 1111, 1141, 1171, 1201, 1231, 1261, 1291, 1321, 1351, 1381, 1411, 1441, 1471, 1501, 1531, 1561, 1591, 1621, 1651, 1681, 1711, 1741, 1771, 1800]\n"
     ]
    }
   ],
   "source": [
    "print(q_pw_pgL[5]['seconds_since_pedaling_start'])"
   ]
  },
  {
   "cell_type": "code",
   "execution_count": 37,
   "metadata": {},
   "outputs": [
    {
     "name": "stdout",
     "output_type": "stream",
     "text": [
      "[{'display_name': 'Avg Output', 'display_unit': 'watts', 'value': 138, 'slug': 'avg_output'}, {'display_name': 'Avg Cadence', 'display_unit': 'rpm', 'value': 82, 'slug': 'avg_cadence'}, {'display_name': 'Avg Resistance', 'display_unit': '%', 'value': 43, 'slug': 'avg_resistance'}, {'display_name': 'Avg Speed', 'display_unit': 'kph', 'value': 29.4, 'slug': 'avg_speed'}]\n"
     ]
    }
   ],
   "source": [
    "print(q_pw_pgL[5]['average_summaries'])"
   ]
  },
  {
   "cell_type": "code",
   "execution_count": 38,
   "metadata": {},
   "outputs": [
    {
     "name": "stdout",
     "output_type": "stream",
     "text": [
      "[{'display_name': 'Total Output', 'display_unit': 'kj', 'value': 248, 'slug': 'total_output'}, {'display_name': 'Distance', 'display_unit': 'km', 'value': 14.71, 'slug': 'distance'}, {'display_name': 'Calories', 'display_unit': 'kcal', 'value': 341, 'slug': 'calories'}]\n"
     ]
    }
   ],
   "source": [
    "print(q_pw_pgL[5]['summaries'])"
   ]
  },
  {
   "cell_type": "code",
   "execution_count": 39,
   "metadata": {},
   "outputs": [
    {
     "name": "stdout",
     "output_type": "stream",
     "text": [
      "[{'display_name': 'Output', 'display_unit': 'watts', 'max_value': 228, 'average_value': 138, 'values': [93, 93, 102, 138, 135, 201, 192, 201, 207, 191, 204, 216, 113, 116, 145, 163, 176, 167, 213, 205, 194, 88, 150, 147, 159, 156, 170, 198, 170, 176, 190, 198, 173, 144, 141, 135, 211, 228, 219, 94, 93, 96, 142, 153, 145, 148, 173, 160, 125, 160, 198, 198, 197, 166, 148, 140, 209, 201, 146, 97, 86], 'slug': 'output'}, {'display_name': 'Cadence', 'display_unit': 'rpm', 'max_value': 111, 'average_value': 82, 'values': [82, 81, 85, 87, 86, 109, 106, 109, 111, 106, 106, 110, 75, 76, 87, 92, 92, 88, 98, 96, 93, 59, 87, 85, 89, 89, 86, 90, 86, 87, 92, 94, 87, 84, 84, 81, 89, 92, 91, 88, 87, 90, 87, 90, 87, 88, 88, 83, 72, 81, 92, 94, 88, 84, 88, 85, 92, 89, 70, 59, 55], 'slug': 'cadence'}, {'display_name': 'Resistance', 'display_unit': '%', 'max_value': 49, 'average_value': 43, 'values': [38, 38, 38, 42, 42, 42, 42, 42, 42, 42, 42, 42, 42, 42, 42, 42, 44, 44, 46, 46, 46, 46, 46, 44, 44, 44, 46, 46, 46, 46, 46, 46, 46, 44, 44, 44, 49, 49, 49, 35, 35, 35, 42, 42, 42, 42, 46, 46, 46, 46, 46, 47, 47, 44, 43, 43, 48, 48, 48, 48, 48], 'slug': 'resistance'}, {'display_name': 'Speed', 'display_unit': 'kph', 'max_value': 36.2, 'average_value': 29.4, 'values': [25.4, 25.4, 26.3, 29.8, 29.5, 34.5, 33.9, 34.5, 34.9, 33.8, 34.7, 35.5, 27.5, 27.7, 30.4, 31.8, 32.8, 32.1, 35.2, 34.8, 34.0, 24.8, 30.8, 30.5, 31.5, 31.3, 32.3, 34.3, 32.3, 32.8, 33.8, 34.3, 32.6, 30.3, 30.0, 29.5, 35.1, 36.2, 35.6, 25.5, 25.3, 25.7, 30.2, 31.0, 30.4, 30.6, 32.6, 31.6, 28.7, 31.6, 34.3, 34.3, 34.2, 32.0, 30.6, 29.9, 35.0, 34.5, 30.5, 25.8, 24.6], 'slug': 'speed'}, {'display_name': 'Heart Rate', 'display_unit': 'bpm', 'max_value': 164, 'average_value': 137, 'values': [101, 111, 109, 117, 116, 129, 128, 137, 141, 145, 142, 144, 139, 126, 120, 129, 142, 143, 150, 157, 158, 150, 131, 130, 132, 143, 147, 147, 156, 158, 153, 158, 158, 145, 141, 137, 141, 161, 164, 156, 138, 132, 130, 135, 136, 142, 145, 147, 150, 151, 146, 154, 157, 156, 146, 145, 147, 159, 159, 151, 130], 'slug': 'heart_rate', 'zones': [{'display_name': 'Zone 1', 'slug': 'zone1', 'range': '<123 bpm', 'duration': 284, 'max_value': 122, 'min_value': 0}, {'display_name': 'Zone 2', 'slug': 'zone2', 'range': '123-141 bpm', 'duration': 751, 'max_value': 141, 'min_value': 123}, {'display_name': 'Zone 3', 'slug': 'zone3', 'range': '142-160 bpm', 'duration': 751, 'max_value': 160, 'min_value': 142}, {'display_name': 'Zone 4', 'slug': 'zone4', 'range': '161-179 bpm', 'duration': 12, 'max_value': 179, 'min_value': 161}, {'display_name': 'Zone 5', 'slug': 'zone5', 'range': '>=180 bpm', 'duration': 0, 'max_value': 190, 'min_value': 180}], 'missing_data_duration': 2}]\n"
     ]
    }
   ],
   "source": [
    "print(q_pw_pgL[5]['metrics'])"
   ]
  },
  {
   "cell_type": "code",
   "execution_count": 40,
   "metadata": {},
   "outputs": [
    {
     "name": "stdout",
     "output_type": "stream",
     "text": [
      "{}\n"
     ]
    }
   ],
   "source": [
    "print(q_pw_pgL[5]['splits_data'])"
   ]
  },
  {
   "cell_type": "code",
   "execution_count": 41,
   "metadata": {},
   "outputs": [
    {
     "name": "stdout",
     "output_type": "stream",
     "text": [
      "{'target_metrics': [], 'time_in_metric': []}\n"
     ]
    }
   ],
   "source": [
    "print(q_pw_pgL[5]['target_metrics_performance_data'])"
   ]
  },
  {
   "cell_type": "code",
   "execution_count": 42,
   "metadata": {},
   "outputs": [
    {
     "name": "stdout",
     "output_type": "stream",
     "text": [
      "{'total_effort_points': 24.4, 'heart_rate_zone_durations': {'heart_rate_z1_duration': 284, 'heart_rate_z2_duration': 751, 'heart_rate_z3_duration': 751, 'heart_rate_z4_duration': 12, 'heart_rate_z5_duration': 0}}\n"
     ]
    }
   ],
   "source": [
    "print(q_pw_pgL[5]['effort_zones'])"
   ]
  },
  {
   "cell_type": "code",
   "execution_count": 43,
   "metadata": {},
   "outputs": [],
   "source": [
    "#Close the API request session\n",
    "\n",
    "s.close()"
   ]
  },
  {
   "cell_type": "code",
   "execution_count": 62,
   "metadata": {},
   "outputs": [],
   "source": [
    "#Create a list for each metric of interest\n",
    "\n",
    "DurL=[]     # Duration\n",
    "TOL=[]      # Total Output\n",
    "MOL=[]      # Max Output\n",
    "AOL=[]      # Average Output\n",
    "MCL=[]      # Max Cadence\n",
    "ACL=[]      # Average Cadence\n",
    "MRL=[]      # Max Resistance\n",
    "ARL=[]      # Average Resistance\n",
    "MHRL=[]     # Max Heart Rate\n",
    "AHRL=[]     # Average Heart Rate\n",
    "\n",
    "\n",
    "for data in q_pw_pgL:\n",
    "    \n",
    "    #print(data)\n",
    "    \n",
    "    DurL.append(data['duration'])\n",
    "    TOL.append(data['summaries'][0]['value'])\n",
    "    MOL.append(data['metrics'][0]['max_value'])\n",
    "    AOL.append(data['metrics'][0]['average_value'])\n",
    "    MCL.append(data['metrics'][1]['max_value'])\n",
    "    ACL.append(data['metrics'][1]['average_value'])\n",
    "    MRL.append(data['metrics'][2]['max_value'])\n",
    "    ARL.append(data['metrics'][2]['average_value'])\n",
    "    try:\n",
    "        MHRL.append(data['metrics'][4]['max_value'])\n",
    "    except:\n",
    "        MHRL.append(np.nan)\n",
    "    try:\n",
    "        AHRL.append(data['metrics'][4]['average_value'])\n",
    "    except:\n",
    "        AHRL.append(np.nan)"
   ]
  },
  {
   "cell_type": "code",
   "execution_count": 63,
   "metadata": {},
   "outputs": [],
   "source": [
    "## Combine the lists into a Pandas dataframe\n",
    "pelo_stats = pd.DataFrame(zip(df_my_id['id'],df_my_id['peloton_id'],df_my_id['end_time'],DurL,TOL,MOL,AOL,ACL,MRL,ARL,AHRL,MHRL))\n",
    "\n",
    "pelo_stats = pelo_stats.rename(columns={0: 'workout_id', 1: 'peloton_id', 2: 'date', 3: 'duration', 4: 'total_output',\n",
    "5: 'max_output', 6: 'average_output', 7: 'average_cadence', 8: 'max_resistance',9: 'average_resistence', 10: 'average_heart_rate', 11: 'max_heart_rate'})\n"
   ]
  },
  {
   "cell_type": "code",
   "execution_count": 65,
   "metadata": {},
   "outputs": [],
   "source": [
    "## Convert the date from UNIX time to datetime\n",
    "pelo_stats['date'] = pd.to_datetime(pelo_stats['date'], unit='s').apply(lambda x: x.to_datetime64())"
   ]
  },
  {
   "cell_type": "code",
   "execution_count": 66,
   "metadata": {},
   "outputs": [
    {
     "name": "stdout",
     "output_type": "stream",
     "text": [
      "                          workout_id                        peloton_id  \\\n",
      "0   b88214101694484286873f85dacf714d  9a92c52459ef42f0ae3639ef03b2361b   \n",
      "1   deb6957a2baa45f88c75e926b4bf7af1  fb1d3ac0f5aa4a1090b302acbb512ee1   \n",
      "2   223b95068acd4d92b76b9c7935d2017d  2213f5679bbd479f9d93c7de0344fcfd   \n",
      "3   a682dbdda66e4ff29483d968acb59d00  ade0f46f36044962b7cc61bac51d2c06   \n",
      "4   e10adacca609456989bbe373dd8da100  8ea67fdadb5e4f319f6d422d92cedf12   \n",
      "5   c042b7fa590c4b169d36187fffba2648  9da5a0c42b1849a8ba706a8c7b315452   \n",
      "6   fe371827309545fa9c49af3258df6593  1f469f192e3646218c61dfc6fb9962c8   \n",
      "7   df83a80fa5ac466ea615326f4d76bef7  3ef7ce2bbdd74c1d8210365e323de93c   \n",
      "8   b915ae179b7e436e8c4c833f12c2a1ae  05157117b2324eed83df30b6d4e0b1f1   \n",
      "9   bcdbedc3fa4041738f607594eaa6fbcd  6abf5955aafa4c9e934d44cafc3ed0ee   \n",
      "10  f9347eede5cc4d04812bea35bd25e509  46f0d10a19cd49cda9f3f69a6c7821d7   \n",
      "11  90ebcd7605cc4c818611b6cafa2acc1c  8680008901dd49829c53439716514c8c   \n",
      "12  cbb9357b9f4d43f6b50a103cd51a4084  3cecb39ad5e74f1a9d3ba71c45e4ca96   \n",
      "13  ee4d9490979b4813b103af7ce272b231  51a70b9e085c4a5eb7ae8dd41f42f5a5   \n",
      "14  e70fb766d7d04c48b2a1d3f4bdf7075a  583728f700174b83a628764a4716d54a   \n",
      "15  8db55e00e8fd451b9d6ed1073b529d15  957eedad87fd4976bf245433761855df   \n",
      "16  37f3636c14bc4bd895cb75aab5722c9e  def96a4165ef4ea29847eda1613b9d3e   \n",
      "17  43d5a954deb144f59741d876b48594ff  bf0ba30deb584eb7a6f3c7d07f93631a   \n",
      "18  316ac708e92c437b85a917952a64df45  63c665c8c4b94b739b7d8fb6dc7691bb   \n",
      "19  4f72ba0daab2447486c3af9bb88ca99d  68f3c64a655e4141bce6c84cd0f7f2fb   \n",
      "20  317103f7ca474f0e84f5ad687d8165e7  be46452959104e408e011278437f525a   \n",
      "21  f660531f52b349f7a9ee2f07cd795d81  681b48f6615048dcb3edda04d6891835   \n",
      "22  760bf06a7c5445bdad72fa8f2da38abe  5a1389c532c543dca8a59cd426e24beb   \n",
      "23  1c500ba232ad434b858c246b1c38b69b  d4d668ca411e4260b718fff49db235e4   \n",
      "24  3723b0cafed74ecca07207fa268f976b  3fd0aa934d1a4e198b3539025ab253b8   \n",
      "25  b52879e877a44934914905593b98282b  11bad874750443bd891de0f41db6aa11   \n",
      "26  1bf801fb33a9462f81275aa4a4d94499  3c008ece2def4391939425b1f72bb30f   \n",
      "27  cf7c5886e3224d0a84f03bffd7c65a6a  f671d9cf2f3844e7b6c536ab889db712   \n",
      "28  65e71cde2fd8451ba98103df5c4da4e1  0d097d3733c246fe86170c862b1537e1   \n",
      "29  84634b39f0134b2d9cd36b56d8087fce  038983dfb67f463fbcf858cd04b087d6   \n",
      "30  ffb5f17722a54b859e2a9a96c90f6395  0316d17a19204084a99fdb5b5990211c   \n",
      "31  d553b6c47fa3482b8b0ec79b8ad90d7d  aa50b6cd7d7e4c91a220cd10d309b616   \n",
      "32  283fcff912434c968a2cc74386869175  6b4b76f82a3f466f90e4e52ad4353415   \n",
      "33  7c2d495bce794a2d8d3d772b5ca1ad39  7442e21edd0b496790431e1b240db737   \n",
      "34  65b69fb2bca744a9b01d3246b405c632  3585234ccb98429484c629db657c9b92   \n",
      "35  1130c11a0d1f46cc983230152b340d16  a3e4cd6da5124fdcb508ea4505a77f1d   \n",
      "36  d7940c306732439aa01e7fb97ab7d15b  8b399cb013b64173b94833a132e51235   \n",
      "37  c9e19bcf72f34841a88299a928579fdc  ca3c105d4ce4484296e8be29f8b50e2a   \n",
      "38  ee21de72b9cf4788b609d83a298d682d  9960d38de30e47b2ba1c5f24bea9308f   \n",
      "39  1e52de49c2ed446c98d8bddfbce2e083  038c6d7e68374c618e43ea1efe342ed4   \n",
      "40  68ed2a7091ab49d4a7aef270aac57b77  78d644ade88441478e150126d31e5139   \n",
      "41  90d9621c984b4163ab91a4d119e2e7c7  118b9c42401f4e108c656a59089e06e2   \n",
      "42  019bc265762149efbff3608cd4d21e05  1993889cdd994ea6ad56e3bc1d6c8788   \n",
      "43  a94d2d19a0e647dbb86f5b519562e344  f1dd33a221a8478e9256339eb8797c09   \n",
      "44  ef78391ef91e409c9f15c2e060eb4a4c  d6c2864972974a15ad4292dc5a8e02e4   \n",
      "45  65cf11c8b60b4667b02877d62061a673  d60ac470b0444e39a3fe94df559be291   \n",
      "\n",
      "                  date  duration  total_output  max_output  average_output  \\\n",
      "0  2021-11-16 19:46:49      1800           247         329             137   \n",
      "1  2021-07-29 19:14:59      2700           389         277             144   \n",
      "2  2021-06-09 18:43:55       600            59         144              98   \n",
      "3  2021-06-09 18:30:51      1800           426         548             237   \n",
      "4  2021-06-09 17:56:04       300            38         299             128   \n",
      "5  2021-05-26 04:27:04      1800           248         228             138   \n",
      "6  2021-05-10 01:23:14      2700           479         687             177   \n",
      "7  2021-05-07 03:40:00      1800           247         279             137   \n",
      "8  2021-05-05 18:37:27       300            22          89              73   \n",
      "9  2021-05-05 18:30:50      1800           405         522             225   \n",
      "10 2021-04-25 19:06:26      1800           240         223             133   \n",
      "11 2021-04-24 19:55:18       300            26         113              87   \n",
      "12 2021-04-24 19:48:13      2700           540         380             200   \n",
      "13 2021-04-23 22:23:48      2700           379         266             140   \n",
      "14 2021-04-19 22:40:28      1800           248         391             138   \n",
      "15 2021-04-15 23:08:22      1800           232         194             129   \n",
      "16 2021-04-14 18:38:42       300            22          94              73   \n",
      "17 2021-04-14 18:30:51      1800           365         548             203   \n",
      "18 2021-04-06 18:55:00      1800           290         381             165   \n",
      "19 2021-04-04 21:03:34      2700           425         421             158   \n",
      "20 2021-03-31 04:04:35      1800           274         469             152   \n",
      "21 2021-03-30 04:04:50      3600           444         228             123   \n",
      "22 2021-03-29 04:40:09      1800           234         330             130   \n",
      "23 2021-03-20 18:30:29      1200           208         320             173   \n",
      "24 2021-03-14 19:00:50      1800           256         235             142   \n",
      "25 2021-03-12 20:03:37       300            28         133              93   \n",
      "26 2021-03-12 19:56:41      2700           478         469             177   \n",
      "27 2021-03-12 04:20:54      1800           286         376             159   \n",
      "28 2021-03-05 19:31:02      1800           361         477             201   \n",
      "29 2021-03-02 20:02:37      2700           383         268             142   \n",
      "30 2021-02-26 19:46:02      2700           504         485             187   \n",
      "31 2021-02-25 03:50:35      1800           220         261             123   \n",
      "32 2021-02-21 21:37:42      1800           282         524             157   \n",
      "33 2021-02-19 19:51:02      2700           483         571             179   \n",
      "34 2021-02-18 04:18:27      2700           293         242             109   \n",
      "35 2021-02-17 04:35:26      1800           193         187             107   \n",
      "36 2021-02-13 03:55:03      1800           199         257             110   \n",
      "37 2021-02-11 04:08:00      1800           196         172             109   \n",
      "38 2021-02-10 04:23:46       600            32          69              53   \n",
      "39 2021-02-10 04:09:59      1200           198         305             165   \n",
      "40 2021-02-10 03:47:59       600            55         212              93   \n",
      "41 2021-02-09 03:44:09      1800           314         570             175   \n",
      "42 2021-02-08 01:13:23      1800           210         233             117   \n",
      "43 2021-02-07 02:15:29      1800           259         421             144   \n",
      "44 2021-02-03 03:57:36       900            88         175              98   \n",
      "45 2021-02-02 04:47:21      1200           111         170              93   \n",
      "\n",
      "    average_cadence  max_resistance  average_resistence  average_heart_rate  \\\n",
      "0                77              50                  44               136.0   \n",
      "1                80              53                  44               139.0   \n",
      "2                79              40                  39               132.0   \n",
      "3                61              74                  66               170.0   \n",
      "4                67              55                  48               137.0   \n",
      "5                82              49                  43               137.0   \n",
      "6                73              69                  52               153.0   \n",
      "7                84              54                  41               143.0   \n",
      "8                79              34                  34               133.0   \n",
      "9                68              75                  62               163.0   \n",
      "10               87              48                  41               133.0   \n",
      "11               79              44                  37               129.0   \n",
      "12               67              76                  59               161.0   \n",
      "13               84              49                  43               137.0   \n",
      "14               75              60                  45               139.0   \n",
      "15               85              46                  41               137.0   \n",
      "16               74              37                  36                 NaN   \n",
      "17               75              73                  54                 NaN   \n",
      "18               74              71                  50               145.0   \n",
      "19               70              70                  50               141.0   \n",
      "20               73              69                  48               144.0   \n",
      "21               80              58                  42               133.0   \n",
      "22               79              49                  43               130.0   \n",
      "23               81              64                  48               152.0   \n",
      "24               93              48                  40               148.0   \n",
      "25               85              46                  37               136.0   \n",
      "26               70              75                  54               157.0   \n",
      "27               72              64                  50               149.0   \n",
      "28               71              72                  55               170.0   \n",
      "29               80              63                  44               142.0   \n",
      "30               70              74                  55               155.0   \n",
      "31               73              50                  44               133.0   \n",
      "32               76              73                  47               152.0   \n",
      "33               65              75                  55               149.0   \n",
      "34               81              53                  39               130.0   \n",
      "35               83              49                  39               129.0   \n",
      "36               85              45                  37               129.0   \n",
      "37               82              49                  39               128.0   \n",
      "38               82              31                  29               120.0   \n",
      "39               77              59                  49               154.0   \n",
      "40               84              50                  35               114.0   \n",
      "41               75              64                  51               160.0   \n",
      "42               89              48                  38               137.0   \n",
      "43               76              65                  46               150.0   \n",
      "44               73              48                  41               129.0   \n",
      "45               85              46                  36               132.0   \n",
      "\n",
      "    max_heart_rate  \n",
      "0            189.0  \n",
      "1            170.0  \n",
      "2            144.0  \n",
      "3            190.0  \n",
      "4            154.0  \n",
      "5            164.0  \n",
      "6            181.0  \n",
      "7            179.0  \n",
      "8            136.0  \n",
      "9            195.0  \n",
      "10           159.0  \n",
      "11           136.0  \n",
      "12           186.0  \n",
      "13           176.0  \n",
      "14           176.0  \n",
      "15           160.0  \n",
      "16             NaN  \n",
      "17             NaN  \n",
      "18           175.0  \n",
      "19           174.0  \n",
      "20           176.0  \n",
      "21           153.0  \n",
      "22           157.0  \n",
      "23           177.0  \n",
      "24           171.0  \n",
      "25           145.0  \n",
      "26           185.0  \n",
      "27           176.0  \n",
      "28           188.0  \n",
      "29           172.0  \n",
      "30           182.0  \n",
      "31           163.0  \n",
      "32           182.0  \n",
      "33           189.0  \n",
      "34           155.0  \n",
      "35           156.0  \n",
      "36           160.0  \n",
      "37           152.0  \n",
      "38           127.0  \n",
      "39           186.0  \n",
      "40           153.0  \n",
      "41           184.0  \n",
      "42           164.0  \n",
      "43           184.0  \n",
      "44           154.0  \n",
      "45           157.0  \n"
     ]
    }
   ],
   "source": [
    "print(pelo_stats)"
   ]
  },
  {
   "cell_type": "code",
   "execution_count": 67,
   "metadata": {},
   "outputs": [],
   "source": [
    "## Now I can export the final tibble to my dropbox so that I can work with the data without have to query the API\n",
    "\n",
    "pelo_stats.to_csv(path_or_buf=r'C:\\Users\\Dropbox\\#########')"
   ]
  }
 ],
 "metadata": {
  "kernelspec": {
   "display_name": "Python 3",
   "language": "python",
   "name": "python3"
  },
  "language_info": {
   "codemirror_mode": {
    "name": "ipython",
    "version": 3
   },
   "file_extension": ".py",
   "mimetype": "text/x-python",
   "name": "python",
   "nbconvert_exporter": "python",
   "pygments_lexer": "ipython3",
   "version": "3.7.4"
  }
 },
 "nbformat": 4,
 "nbformat_minor": 4
}
